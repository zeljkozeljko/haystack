{
 "cells": [
  {
   "cell_type": "code",
   "execution_count": 1,
   "metadata": {
    "collapsed": true
   },
   "outputs": [],
   "source": [
    "import numpy as np\n",
    "import matplotlib.pyplot as plt"
   ]
  },
  {
   "cell_type": "code",
   "execution_count": 44,
   "metadata": {
    "collapsed": true
   },
   "outputs": [],
   "source": [
    "a = 1 # Uniform bound\n",
    "n = 100 # ambient dimension\n",
    "m = 100 # num_samples"
   ]
  },
  {
   "cell_type": "code",
   "execution_count": 50,
   "metadata": {
    "collapsed": false,
    "scrolled": true
   },
   "outputs": [],
   "source": [
    "t_end = 0.95\n",
    "t_begin = np.sqrt(-9.0/2.0 * 1.0/(n * n * a * a) * np.log(1.0/m))\n",
    "t_range = np.linspace(0.1, .75, 100)\n",
    "\n",
    "k_max = 10\n",
    "curve = np.zeros((k_max, len(t_range)))\n",
    "\n",
    "for i in range(1, k_max):\n",
    "    for j in range(len(t_range)):\n",
    "        p = np.exp(-2.0/9.0 * n * n * a * a * t_range[j]) + 10e-15\n",
    "        D = np.float(i)/np.float(m) * np.log(np.float(i)/(np.float(m) * p)) +\\\n",
    "            (1.0 - np.float(i)/np.float(m)) * np.log((1.0 - np.float(i)/np.float(m))/(1.0 - p))\n",
    "        curve[i-1, j] = np.exp(-m * D)\n",
    "    "
   ]
  },
  {
   "cell_type": "code",
   "execution_count": 54,
   "metadata": {
    "collapsed": false
   },
   "outputs": [
    {
     "data": {
      "image/png": "[encoded data removed]",
      "text/plain": [
       "<matplotlib.figure.Figure at 0x10f5084d0>"
      ]
     },
     "metadata": {},
     "output_type": "display_data"
    }
   ],
   "source": [
    "plt.plot(t_range, curve[0,:])\n",
    "plt.show()"
   ]
  }
 ],
 "metadata": {
  "anaconda-cloud": {},
  "kernelspec": {
   "display_name": "Python [conda root]",
   "language": "python",
   "name": "conda-root-py"
  },
  "language_info": {
   "codemirror_mode": {
    "name": "ipython",
    "version": 2
   },
   "file_extension": ".py",
   "mimetype": "text/x-python",
   "name": "python",
   "nbconvert_exporter": "python",
   "pygments_lexer": "ipython2",
   "version": "2.7.12"
  }
 },
 "nbformat": 4,
 "nbformat_minor": 1
}
